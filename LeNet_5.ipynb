{
  "nbformat": 4,
  "nbformat_minor": 0,
  "metadata": {
    "colab": {
      "provenance": [],
      "authorship_tag": "ABX9TyPiLZVI8iPkTThgwoyqyhXy",
      "include_colab_link": true
    },
    "kernelspec": {
      "name": "python3",
      "display_name": "Python 3"
    },
    "language_info": {
      "name": "python"
    }
  },
  "cells": [
    {
      "cell_type": "markdown",
      "metadata": {
        "id": "view-in-github",
        "colab_type": "text"
      },
      "source": [
        "<a href=\"https://colab.research.google.com/github/parth721/Computer-vision-deep-fake-detection/blob/main/LeNet_5.ipynb\" target=\"_parent\"><img src=\"https://colab.research.google.com/assets/colab-badge.svg\" alt=\"Open In Colab\"/></a>"
      ]
    },
    {
      "cell_type": "code",
      "execution_count": null,
      "metadata": {
        "id": "1e3TLt2byIme"
      },
      "outputs": [],
      "source": [
        "#input : batch of input image, of shape (B,H,W,D) B=batch-size\n",
        "#filter : N filter stacked into a tensor, shape (Kh,Kw,D,N)\n",
        "#strides : [1,Sh,Sw,1]\n",
        "#padding :\n",
        "#name : to identify the operation"
      ]
    },
    {
      "cell_type": "markdown",
      "source": [
        "# LeNet-5"
      ],
      "metadata": {
        "id": "lCF-9K0o4Ssx"
      }
    },
    {
      "cell_type": "code",
      "source": [
        "import tensorflow as tf\n",
        "from tensorflow.keras import layers, models\n",
        "\n",
        "\n",
        "def LeNet5(input_shape, num_classes):\n",
        "  model = models.Sequential()\n",
        "\n",
        "  # layer1 : conv\n",
        "  model.add(layers.Conv2D(6, kernel_size=(5,5), strides=(1,1), padding='valid', activation='relu', input_shape=input_shape))\n",
        "\n",
        "  #layer2 : avg.Pooling\n",
        "  model.add(layers.AveragePooling2D(pool_size=(2,2), strides=(2,2), padding='valid'))\n",
        "\n",
        "\n",
        "  #layer3 : conv\n",
        "  model.add(layers.Conv2D(16, kernel_size=(5,5), strides=(1,1), padding='valid', activation='relu'))\n",
        "\n",
        "  #layer4 : pooling\n",
        "  model.add(layers.AveragePooling2D(pool_size=(2, 2), strides=(2, 2), padding='valid'))\n",
        "\n",
        "  #flatten. in=5x5x16 out=400\n",
        "  model.add(layers.Flatten())\n",
        "\n",
        "  #layer5 : FC in=400 out=120\n",
        "  model.add(layers.Dense(120, activation='relu'))\n",
        "\n",
        "  #layer6 : FC in=120 out=84\n",
        "  model.add(layers.Dense(84, activation='relu'))\n",
        "\n",
        "  #layer7 : FC in=84 out=num_classes\n",
        "  model.add(layers.Dense(num_classes, activation='softmax'))\n",
        "\n",
        "  return model\n",
        "\n",
        "# instantiate the model\n",
        "input_shape =(32, 32, 1)\n",
        "num_classes =10\n",
        "model = LeNet5(input_shape, num_classes)\n",
        "\n",
        "#display model summary\n",
        "model.summary()"
      ],
      "metadata": {
        "colab": {
          "base_uri": "https://localhost:8080/"
        },
        "id": "aEztitkz8sST",
        "outputId": "29aac888-90ef-45c2-9a5b-2bbfead48d09"
      },
      "execution_count": 9,
      "outputs": [
        {
          "output_type": "stream",
          "name": "stdout",
          "text": [
            "Model: \"sequential\"\n",
            "_________________________________________________________________\n",
            " Layer (type)                Output Shape              Param #   \n",
            "=================================================================\n",
            " conv2d (Conv2D)             (None, 28, 28, 6)         156       \n",
            "                                                                 \n",
            " average_pooling2d (Average  (None, 14, 14, 6)         0         \n",
            " Pooling2D)                                                      \n",
            "                                                                 \n",
            " conv2d_1 (Conv2D)           (None, 10, 10, 16)        2416      \n",
            "                                                                 \n",
            " average_pooling2d_1 (Avera  (None, 5, 5, 16)          0         \n",
            " gePooling2D)                                                    \n",
            "                                                                 \n",
            " flatten (Flatten)           (None, 400)               0         \n",
            "                                                                 \n",
            " dense (Dense)               (None, 120)               48120     \n",
            "                                                                 \n",
            " dense_1 (Dense)             (None, 84)                10164     \n",
            "                                                                 \n",
            " dense_2 (Dense)             (None, 10)                850       \n",
            "                                                                 \n",
            "=================================================================\n",
            "Total params: 61706 (241.04 KB)\n",
            "Trainable params: 61706 (241.04 KB)\n",
            "Non-trainable params: 0 (0.00 Byte)\n",
            "_________________________________________________________________\n"
          ]
        }
      ]
    }
  ]
}